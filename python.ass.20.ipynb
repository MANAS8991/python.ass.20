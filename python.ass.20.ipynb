{
 "cells": [
  {
   "cell_type": "markdown",
   "id": "098cd9f5",
   "metadata": {},
   "source": [
    "# 1. Set the variable test1 to the string &#39;This is a test of the emergency text system,&#39; and save test1 to a file named test.txt."
   ]
  },
  {
   "cell_type": "code",
   "execution_count": null,
   "id": "f7483960",
   "metadata": {},
   "outputs": [],
   "source": [
    "Here's an example of how you can set the variable test1 to a string and save it to a file named \"test.txt\" using Python:\n",
    "test1 = 'This is a test of the emergency text system.'\n",
    "\n",
    "with open('test.txt', 'w') as file:\n",
    "    file.write(test1)\n",
    "\n",
    "In this example, the string 'This is a test of the emergency text system.' is assigned to the variable test1. The open() function is used to open the file named \"test.txt\" in write mode ('w'). The write() method is then called on the file object to write the contents of test1 to the file. The with statement ensures that the file is properly closed after writing.\n",
    "\n",
    "After running this code, the string will be saved to the \"test.txt\" file in the current working directory."
   ]
  },
  {
   "cell_type": "markdown",
   "id": "5762aa9b",
   "metadata": {},
   "source": [
    "# 2. Read the contents of the file test.txt into the variable test2. Is there a difference between test 1 and test 2?"
   ]
  },
  {
   "cell_type": "code",
   "execution_count": null,
   "id": "69e4ca74",
   "metadata": {},
   "outputs": [],
   "source": [
    "To read the contents of the file \"test.txt\" into the variable test2 and compare it with test1, you can use the following code:\n",
    "with open('test.txt', 'r') as file:\n",
    "    test2 = file.read()\n",
    "\n",
    "# Compare test1 and test2\n",
    "if test1 == test2:\n",
    "    print(\"There is no difference between test1 and test2.\")\n",
    "else:\n",
    "    print(\"There is a difference between test1 and test2.\")\n",
    "\n",
    "    In this code, the open() function is used again, but this time with the mode 'r' to open the file in read mode. The read() method is called on the file object to read the contents of the file into the variable test2.\n",
    "\n",
    "After that, the code compares test1 and test2 using an if statement. If they are equal, it prints \"There is no difference between test1 and test2.\" Otherwise, it prints \"There is a difference between test1 and test2.\"\n",
    "\n",
    "Running this code will help you determine if there is any difference between the contents of test1 and test2."
   ]
  },
  {
   "cell_type": "markdown",
   "id": "66ab15c5",
   "metadata": {},
   "source": [
    "# 3. Create a CSV file called books.csv by using these lines:\n",
    "# title,author,year\n",
    "# The Weirdstone of Brisingamen,Alan Garner,1960\n",
    "# Perdido Street Station,China Miéville,2000\n",
    "# Thud!,Terry Pratchett,2005\n",
    "# The Spellman Files,Lisa Lutz,2007\n",
    "# Small Gods,Terry Pratchett,1992"
   ]
  },
  {
   "cell_type": "code",
   "execution_count": null,
   "id": "21e1ea2f",
   "metadata": {},
   "outputs": [],
   "source": [
    "To create a CSV file called \"books.csv\" with the provided lines, you can use the following code:\n",
    "import csv\n",
    "\n",
    "lines = [\n",
    "    ['title', 'author', 'year'],\n",
    "    ['The Weirdstone of Brisingamen', 'Alan Garner', '1960'],\n",
    "    ['Perdido Street Station', 'China Miéville', '2000'],\n",
    "    ['Thud!', 'Terry Pratchett', '2005'],\n",
    "    ['The Spellman Files', 'Lisa Lutz', '2007'],\n",
    "    ['Small Gods', 'Terry Pratchett', '1992']\n",
    "]\n",
    "\n",
    "with open('books.csv', 'w', newline='') as file:\n",
    "    writer = csv.writer(file)\n",
    "    writer.writerows(lines)\n",
    "\n",
    "print(\"books.csv file has been created successfully.\")\n",
    "\n",
    "In this code, the csv module is imported to handle CSV operations. The lines variable holds the data in a nested list format, where each sublist represents a row in the CSV file.\n",
    "\n",
    "The open() function is used with the mode 'w' to open the file in write mode. The csv.writer object is created, passing the file object as the argument. The writerows() method is called on the writer object to write the lines to the CSV file."
   ]
  },
  {
   "cell_type": "markdown",
   "id": "91ed6f0e",
   "metadata": {},
   "source": [
    "# 4. Use the sqlite3 module to create a SQLite database called books.db, and a table called books with these fields: title (text), author (text), and year (integer)."
   ]
  },
  {
   "cell_type": "code",
   "execution_count": null,
   "id": "a8d794a9",
   "metadata": {},
   "outputs": [],
   "source": [
    "To create a SQLite database called \"books.db\" and a table called \"books\" with the specified fields, you can use the sqlite3 module in Python. Here's an example code snippet:\n",
    "import sqlite3\n",
    "\n",
    "# Connect to the database or create a new one if it doesn't exist\n",
    "conn = sqlite3.connect('books.db')\n",
    "\n",
    "# Create a cursor object to execute SQL commands\n",
    "cursor = conn.cursor()\n",
    "\n",
    "# Create the \"books\" table\n",
    "cursor.execute('''\n",
    "    CREATE TABLE IF NOT EXISTS books (\n",
    "        title TEXT,\n",
    "        author TEXT,\n",
    "        year INTEGER\n",
    "    )\n",
    "''')\n",
    "\n",
    "# Commit the changes and close the connection\n",
    "conn.commit()\n",
    "conn.close()\n",
    "\n",
    "print(\"books.db database and 'books' table have been created successfully.\")\n",
    "\n",
    "In this code, the sqlite3 module is imported to interact with the SQLite database. The connect() function is used to establish a connection to the database file \"books.db\". If the file doesn't exist, it will be created.\n",
    "\n",
    "A cursor object is created using the cursor() method of the connection. The execute() method is called on the cursor to execute the SQL command that creates the \"books\" table. The table has three columns: \"title\" (text), \"author\" (text), and \"year\" (integer).\n",
    "\n",
    "The commit() method is used to save the changes to the database, and then the close() method is called to close the connection.\n"
   ]
  },
  {
   "cell_type": "markdown",
   "id": "fbc8365e",
   "metadata": {},
   "source": [
    "# 5. Read books.csv and insert its data into the book table."
   ]
  },
  {
   "cell_type": "code",
   "execution_count": null,
   "id": "ded7ace3",
   "metadata": {},
   "outputs": [],
   "source": [
    "To read the data from the \"books.csv\" file and insert it into the \"books\" table in the \"books.db\" database, you can use the csv module along with the sqlite3 module in Python. Here's an example code snippet:\n",
    "\n",
    "import csv\n",
    "import sqlite3\n",
    "\n",
    "# Connect to the database\n",
    "conn = sqlite3.connect('books.db')\n",
    "cursor = conn.cursor()\n",
    "\n",
    "# Open the CSV file and read its contents\n",
    "with open('books.csv', 'r') as file:\n",
    "    # Create a CSV reader object\n",
    "    csv_reader = csv.reader(file)\n",
    "\n",
    "    # Skip the header row\n",
    "    next(csv_reader)\n",
    "\n",
    "    # Iterate over each row in the CSV file\n",
    "    for row in csv_reader:\n",
    "        # Extract the data from the row\n",
    "        title, author, year = row\n",
    "\n",
    "        # Insert the data into the \"books\" table\n",
    "        cursor.execute('INSERT INTO books (title, author, year) VALUES (?, ?, ?)', (title, author, year))\n",
    "\n",
    "# Commit the changes and close the connection\n",
    "conn.commit()\n",
    "conn.close()\n",
    "\n",
    "print(\"Data from books.csv has been inserted into the 'books' table.\")\n",
    "\n",
    "In this code, the csv module is imported to read the data from the CSV file, and the sqlite3 module is imported to interact with the SQLite database.\n",
    "\n",
    "The open() function is used to open the \"books.csv\" file in read mode, and a CSV reader object is created using csv.reader() to read the contents of the file.\n",
    "\n",
    "The next() function is called to skip the header row of the CSV file. Then, a loop iterates over each row in the CSV file. For each row, the data is extracted and assigned to variables (title, author, year).\n",
    "\n",
    "The execute() method is used to insert the data into the \"books\" table using a parameterized query to prevent SQL injection. The values are passed as a tuple (title, author, year).\n",
    "\n",
    "Finally, the changes are committed using the commit() method, and the connection is closed using the close() method.\n"
   ]
  },
  {
   "cell_type": "markdown",
   "id": "55d89350",
   "metadata": {},
   "source": [
    "# 6. Select and print the title column from the book table in alphabetical order."
   ]
  },
  {
   "cell_type": "code",
   "execution_count": null,
   "id": "764985ec",
   "metadata": {},
   "outputs": [],
   "source": [
    "To select and print the title column from the \"books\" table in alphabetical order, you can execute a SQL query using the sqlite3 module. Here's an example code snippet:\n",
    "import sqlite3\n",
    "\n",
    "# Connect to the database\n",
    "conn = sqlite3.connect('books.db')\n",
    "cursor = conn.cursor()\n",
    "\n",
    "# Execute the SQL query to select the title column from the books table in alphabetical order\n",
    "cursor.execute('SELECT title FROM books ORDER BY title ASC')\n",
    "\n",
    "# Fetch all the rows returned by the query\n",
    "rows = cursor.fetchall()\n",
    "\n",
    "# Print the titles\n",
    "for row in rows:\n",
    "    print(row[0])\n",
    "\n",
    "# Close the connection\n",
    "conn.close()\n",
    "\n",
    "In this code, the execute() method is used to execute the SQL query 'SELECT title FROM books ORDER BY title ASC'. This query selects the \"title\" column from the \"books\" table and orders the results in ascending alphabetical order.\n",
    "\n",
    "The fetchall() method is then called to retrieve all the rows returned by the query. Each row is a tuple, and since we only selected the \"title\" column, we access the title value using row[0].\n",
    "\n",
    "Finally, a loop iterates over the rows and prints the title column values. The connection to the database is closed using the close() method."
   ]
  },
  {
   "cell_type": "markdown",
   "id": "419e494c",
   "metadata": {},
   "source": [
    "# 7. From the book table, select and print all columns in the order of publication."
   ]
  },
  {
   "cell_type": "code",
   "execution_count": null,
   "id": "2c4bbef3",
   "metadata": {},
   "outputs": [],
   "source": [
    "To select and print all columns from the \"books\" table in the order of publication, you can modify the SQL query in the previous example. Here's the updated code snippet:\n",
    "\n",
    "import sqlite3\n",
    "\n",
    "# Connect to the database\n",
    "conn = sqlite3.connect('books.db')\n",
    "cursor = conn.cursor()\n",
    "\n",
    "# Execute the SQL query to select all columns from the books table in the order of publication\n",
    "cursor.execute('SELECT * FROM books ORDER BY year ASC')\n",
    "\n",
    "# Fetch all the rows returned by the query\n",
    "rows = cursor.fetchall()\n",
    "\n",
    "# Print the columns\n",
    "for row in rows:\n",
    "    print(row)\n",
    "\n",
    "# Close the connection\n",
    "conn.close()\n",
    "\n",
    "In this code, the SQL query 'SELECT * FROM books ORDER BY year ASC' is used to select all columns (*) from the \"books\" table and order the results by the \"year\" column in ascending order.\n",
    "\n",
    "The rest of the code remains the same as before, where the rows are fetched using fetchall() and printed using a loop.\n",
    "\n",
    "When you run this code, it will print all columns of each row in the \"books\" table, ordered by publication year."
   ]
  },
  {
   "cell_type": "markdown",
   "id": "937f1998",
   "metadata": {},
   "source": [
    "# 8. Use the sqlalchemy module to connect to the sqlite3 database books.db that you just made in exercise 6."
   ]
  },
  {
   "cell_type": "code",
   "execution_count": null,
   "id": "6ef0176b",
   "metadata": {},
   "outputs": [],
   "source": [
    "To connect to the SQLite database \"books.db\" using the SQLAlchemy module, you can use the following code:\n",
    "    from sqlalchemy import create_engine\n",
    "\n",
    "# Create the SQLAlchemy engine\n",
    "engine = create_engine('sqlite:///books.db')\n",
    "\n",
    "# Connect to the database\n",
    "conn = engine.connect()\n",
    "\n",
    "# Perform database operations\n",
    "\n",
    "# Close the connection\n",
    "conn.close()\n",
    "\n",
    "In this code, we import the create_engine function from the sqlalchemy module. Then, we create an engine object by specifying the connection URL, which in this case is 'sqlite:///books.db'. The /// indicates that we are using a relative file path to the database file.\n",
    "\n",
    "Next, we establish a connection to the database by calling the connect() method of the engine object. This returns a connection object that we can use to perform various database operations.\n",
    "\n",
    "Finally, after performing the necessary database operations, we close the connection using the close() method."
   ]
  },
  {
   "cell_type": "markdown",
   "id": "41b5846a",
   "metadata": {},
   "source": [
    "# 9. Install the Redis server and the Python redis library (pip install redis) on your computer. Create a Redis hash called test with the fields count (1) and name ('Fester Bestertester'). Print all the fields for test."
   ]
  },
  {
   "cell_type": "code",
   "execution_count": null,
   "id": "72f61d82",
   "metadata": {},
   "outputs": [],
   "source": [
    "Install Redis server:\n",
    "\n",
    "Download Redis from the official website: https://redis.io/download\n",
    "Extract the downloaded file and navigate to the extracted directory.\n",
    "Compile Redis by running the following commands:\n",
    "    make\n",
    "    \n",
    "Start Redis server:\n",
    "\n",
    "Run the Redis server by executing the following command in the Redis directory:\n",
    "    src/redis-server\n",
    "Install the Python Redis library:\n",
    "\n",
    "Open a terminal or command prompt.\n",
    "Run the following command to install the Redis library:\n",
    "    pip install redis\n",
    "Once Redis and the Python Redis library are installed, you can use the following code to create a Redis hash called \"test\" with the fields \"count\" and \"name\" and print all the fields:\n",
    "import redis\n",
    "\n",
    "# Connect to the Redis server\n",
    "r = redis.Redis()\n",
    "\n",
    "# Create the hash\n",
    "r.hset('test', 'count', 1)\n",
    "r.hset('test', 'name', 'Fester Bestertester')\n",
    "\n",
    "# Get all fields and their values\n",
    "fields = r.hgetall('test')\n",
    "\n",
    "# Print the fields\n",
    "for field, value in fields.items():\n",
    "    print(field, value)\n"
   ]
  },
  {
   "cell_type": "markdown",
   "id": "55ab8933",
   "metadata": {},
   "source": [
    "# 10. Increment the count field of test and print it."
   ]
  },
  {
   "cell_type": "code",
   "execution_count": null,
   "id": "2518f226",
   "metadata": {},
   "outputs": [],
   "source": [
    "To increment the count field of the Redis hash \"test\" and print its updated value, you can use the following code:\n",
    "import redis\n",
    "\n",
    "# Connect to the Redis server\n",
    "r = redis.Redis()\n",
    "\n",
    "# Increment the count field\n",
    "r.hincrby('test', 'count', 1)\n",
    "\n",
    "# Get the updated count value\n",
    "count = r.hget('test', 'count')\n",
    "\n",
    "# Print the updated count\n",
    "print(count)\n",
    "\n",
    "This code uses the hincrby method of the Redis client to increment the value of the \"count\" field by 1. Then, it retrieves the updated count value using the hget method and prints it."
   ]
  }
 ],
 "metadata": {
  "kernelspec": {
   "display_name": "Python 3 (ipykernel)",
   "language": "python",
   "name": "python3"
  },
  "language_info": {
   "codemirror_mode": {
    "name": "ipython",
    "version": 3
   },
   "file_extension": ".py",
   "mimetype": "text/x-python",
   "name": "python",
   "nbconvert_exporter": "python",
   "pygments_lexer": "ipython3",
   "version": "3.9.12"
  }
 },
 "nbformat": 4,
 "nbformat_minor": 5
}
